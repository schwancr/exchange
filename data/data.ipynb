{
 "metadata": {
  "name": "data"
 },
 "nbformat": 3,
 "nbformat_minor": 0,
 "worksheets": [
  {
   "cells": [
    {
     "cell_type": "code",
     "collapsed": false,
     "input": [
      "import fpop\n",
      "import csv\n",
      "import scipy.integrate"
     ],
     "language": "python",
     "metadata": {},
     "outputs": [],
     "prompt_number": 1
    },
    {
     "cell_type": "code",
     "collapsed": false,
     "input": [
      "fpop.RATE_CONSTANTS_INTERP"
     ],
     "language": "python",
     "metadata": {},
     "outputs": [
      {
       "output_type": "pyout",
       "prompt_number": 2,
       "text": [
        "{'ala': 77000000.0,\n",
        " 'arg': 3500000000.0,\n",
        " 'asn': 49000000.0,\n",
        " 'asp': 75000000.0,\n",
        " 'cys': 34000000000.0,\n",
        " 'gln': 100000000.0,\n",
        " 'glu': 230000000.0,\n",
        " 'gly': 17000000.0,\n",
        " 'his': 13000000000.0,\n",
        " 'ile': 1000000000.0,\n",
        " 'leu': 1700000000.0,\n",
        " 'lys': 35000000.0,\n",
        " 'met': 8300000000.0,\n",
        " 'phe': 6500000000.0,\n",
        " 'pro': 100000000.0,\n",
        " 'ser': 320000000.0,\n",
        " 'thr': 510000000.0,\n",
        " 'trp': 1300000000.0,\n",
        " 'tyr': 13000000000.0,\n",
        " 'val': 760000000.0}"
       ]
      }
     ],
     "prompt_number": 2
    },
    {
     "cell_type": "code",
     "collapsed": false,
     "input": [
      "lines = open('Gau2013.csv', 'r').readlines()\n",
      "\n",
      "res = np.array([l.split(',')[0] for l in lines[3:]])\n",
      "pop = np.array([float(l.split(',')[2].split(' ')[0]) for l in lines[3:]])\n",
      "sasa = np.array([float(l.split(',')[3]) for l in lines[3:]])"
     ],
     "language": "python",
     "metadata": {},
     "outputs": [],
     "prompt_number": 3
    },
    {
     "cell_type": "code",
     "collapsed": false,
     "input": [
      "print res, pop, sasa"
     ],
     "language": "python",
     "metadata": {},
     "outputs": [
      {
       "output_type": "stream",
       "stream": "stdout",
       "text": [
        "['V4' 'I5' 'E8' 'I10' 'R11' 'L16' 'H17' 'T19' 'L20' 'E57' 'L62' 'T63' 'E68'\n",
        " 'V70' 'L71' 'V73' 'F74' 'R75' 'I84' 'I86' 'L88'] [ 0.067   0.07    0.053   0.0354  0.022   0.066   0.24    0.07    0.022\n",
        "  0.65    0.11    0.021   0.047   0.0033  0.0033  0.03    0.86    0.045\n",
        "  0.15    0.011   0.15  ] [  36.    0.  108.    2.  142.    0.    9.   28.    0.   11.   89.    0.\n",
        "   65.    0.    6.   14.    0.  100.    0.   10.   69.]\n"
       ]
      }
     ],
     "prompt_number": 4
    },
    {
     "cell_type": "code",
     "collapsed": false,
     "input": [
      "\n",
      "def get_frac(k):\n",
      "    \n",
      "    kq = fpop.RATE_CONSTANTS_INTERP['gln']\n",
      "    R0 = 10E-6 # 10 micromolar\n",
      "    OH0 = 1E-3 # 1 mM <--- This is just a guess!!!\n",
      "    Q0 = 15E-3 # 15 mM\n",
      "\n",
      "\n",
      "    def dX(t, X):\n",
      "        # X[0] -> labeled residue\n",
      "        # X[1] -> OH left\n",
      "        # X[2] -> Quencher\n",
      "        #print X\n",
      "        dM = k * (R0 - X[0]) * X[1]\n",
      "        dOH = - k * (R0 - X[0]) * X[1] - kq * (X[1]) * (X[2])\n",
      "        dQ = - kq * X[1] * X[2]\n",
      "    \n",
      "        return np.array([dM, dOH, dQ])\n",
      "\n",
      "    solver = scipy.integrate.ode(dX)\n",
      "    solver.set_integrator('vode', method='bdf')\n",
      "    X0 = np.array([0, OH0, Q0])\n",
      "    solver.set_initial_value(X0)\n",
      "\n",
      "    while solver.y[1] / OH0 > 0.001:\n",
      "        solver.integrate(solver.t + 1E-4) # integrate 10 ns\n",
      "\n",
      "    return solver.y[0] / (R0)"
     ],
     "language": "python",
     "metadata": {},
     "outputs": [],
     "prompt_number": 5
    },
    {
     "cell_type": "code",
     "collapsed": false,
     "input": [
      "ks = np.logspace(3, 10, 20)\n",
      "\n",
      "fs = np.array([get_frac(k) for k in ks])"
     ],
     "language": "python",
     "metadata": {},
     "outputs": [],
     "prompt_number": 6
    },
    {
     "cell_type": "code",
     "collapsed": false,
     "input": [
      "def y(ks, k0):\n",
      "    \n",
      "    return 1 - np.exp(- ks / k0)\n",
      "\n",
      "sol = scipy.optimize.curve_fit(y, ks, fs, p0=[1E8])\n",
      "print sol\n",
      "\n",
      "plot(ks, y(ks, sol[0][0]), color='red', ls='--', lw=3)\n",
      "plot(ks, fs, color='blue')\n",
      "\n",
      "k0 = sol[0][0]\n",
      "\n",
      "def k(f):\n",
      "    return - k0 * np.log(1 - f)"
     ],
     "language": "python",
     "metadata": {},
     "outputs": [
      {
       "output_type": "stream",
       "stream": "stdout",
       "text": [
        "(array([  1.45781322e+09]), array([[  6.32052547e+11]]))\n"
       ]
      },
      {
       "output_type": "display_data",
       "png": "[encoded data removed]",
       "text": [
        "<matplotlib.figure.Figure at 0x10655a750>"
       ]
      }
     ],
     "prompt_number": 7
    },
    {
     "cell_type": "code",
     "collapsed": false,
     "input": [
      "kq = fpop.RATE_CONSTANTS_INTERP['gln']\n",
      "R0 = 10E-6 # 10 micromolar\n",
      "OH0 = 1E-3 # 1 mM <--- This is just a guess!!!\n",
      "Q0 = 15E-3 # 15 mM\n",
      "\n",
      "def k2(f):\n",
      "    top = np.log(1 / (1 - f))\n",
      "    bottom = np.log(Q0 / (Q0 - OH0 + f * R0))\n",
      "    return kq * top / bottom\n",
      "\n",
      "plot(fs, k(fs), color='red', lw=3, ls='--')\n",
      "plot(fs, k2(fs), color='blue', lw=3, ls='dotted')"
     ],
     "language": "python",
     "metadata": {},
     "outputs": [
      {
       "output_type": "pyout",
       "prompt_number": 23,
       "text": [
        "[<matplotlib.lines.Line2D at 0x10ebd3150>]"
       ]
      },
      {
       "output_type": "display_data",
       "png": "[encoded data removed]",
       "text": [
        "<matplotlib.figure.Figure at 0x10ead7250>"
       ]
      }
     ],
     "prompt_number": 23
    },
    {
     "cell_type": "code",
     "collapsed": false,
     "input": [
      "transdict = {'v' : 'val', 'i' : 'ile', 'e' : 'glu', 'r' : 'arg', 'l' : 'leu', 'h' : 'his', 't' : 'thr', 'f' : 'phe'}\n",
      "res3 = np.array([transdict[r[0].lower()] for r in res])\n",
      "kref = np.array([fpop.RATE_CONSTANTS_INTERP[r] for r in res3])\n",
      "\n",
      "#scatter(sasa, k(pop) - kref)\n",
      "scatter(kref, k2(pop), c=sasa, s=100)\n",
      "xscale('log')\n",
      "yscale('log')"
     ],
     "language": "python",
     "metadata": {},
     "outputs": [
      {
       "output_type": "display_data",
       "png": "[encoded data removed]",
       "text": [
        "<matplotlib.figure.Figure at 0x10ee6f550>"
       ]
      }
     ],
     "prompt_number": 24
    },
    {
     "cell_type": "code",
     "collapsed": false,
     "input": [],
     "language": "python",
     "metadata": {},
     "outputs": [
      {
       "output_type": "stream",
       "stream": "stdout",
       "text": [
        "['val' 'ile' 'glu' 'ile' 'arg' 'leu' 'his' 'thr' 'leu' 'glu' 'leu' 'thr'\n",
        " 'glu' 'val' 'leu' 'val' 'phe' 'arg' 'ile' 'ile' 'leu']\n"
       ]
      }
     ],
     "prompt_number": 90
    },
    {
     "cell_type": "code",
     "collapsed": false,
     "input": [
      "print '%e'%fpop.RATE_CONSTANTS_INTERP['gln']"
     ],
     "language": "python",
     "metadata": {},
     "outputs": [
      {
       "output_type": "stream",
       "stream": "stdout",
       "text": [
        "1.000000e+08\n"
       ]
      }
     ],
     "prompt_number": 11
    },
    {
     "cell_type": "code",
     "collapsed": false,
     "input": [],
     "language": "python",
     "metadata": {},
     "outputs": []
    }
   ],
   "metadata": {}
  }
 ]
}